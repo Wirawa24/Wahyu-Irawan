{
  "nbformat": 4,
  "nbformat_minor": 0,
  "metadata": {
    "colab": {
      "provenance": [],
      "authorship_tag": "ABX9TyM0vhK/JSXVy4EL6z010wAS",
      "include_colab_link": true
    },
    "kernelspec": {
      "name": "python3",
      "display_name": "Python 3"
    },
    "language_info": {
      "name": "python"
    }
  },
  "cells": [
    {
      "cell_type": "markdown",
      "metadata": {
        "id": "view-in-github",
        "colab_type": "text"
      },
      "source": [
        "<a href=\"https://colab.research.google.com/github/Wirawa24/Wahyu-Irawan/blob/main/Praktikum_rsa_ipy.ipynb\" target=\"_parent\"><img src=\"https://colab.research.google.com/assets/colab-badge.svg\" alt=\"Open In Colab\"/></a>"
      ]
    },
    {
      "cell_type": "code",
      "execution_count": null,
      "metadata": {
        "id": "UkyvMhJmTUT-"
      },
      "outputs": [],
      "source": []
    },
    {
      "cell_type": "markdown",
      "source": [
        "import rsa\n",
        "\n",
        "# 1. Generate public and private keys\n",
        "(public_key, private_key) = rsa.newkeys (2048)\n",
        "\n",
        "# Simulasi data transaksi (misalnya info kartu kredit)\n",
        "transaction_data = \"Nama : Abu Assyifa kartu: 4123-1234-2356-1111, Exp: 12/25, CVV: 234\"\n",
        "\n",
        "# 2. Enkripsi data dengan public key\n",
        "encrypted_data = rsa.encrypt(transaction_data.encode(), public_key)\n",
        "print( Data terenkripsi (dikirim ke server):\", encrypted_data[:64], \"...\")\n",
        "\n",
        "# 3. Dekripsi data dengan private key\n",
        "decrypted_data = rsa.decrypt(encrypted_data, private_key).decode()\n",
        "print( Data diekripsi di server:\", decrypted_data)\n",
        "\n"
      ],
      "metadata": {
        "id": "uo3HVaP5TWpx"
      }
    },
    {
      "cell_type": "code",
      "source": [
        "import rsa"
      ],
      "metadata": {
        "id": "VS52uu6tWx4n"
      },
      "execution_count": null,
      "outputs": []
    },
    {
      "cell_type": "code",
      "source": [
        "(public_key, private_key) = rsa.newkeys(2048)"
      ],
      "metadata": {
        "id": "ENpNOi-VW8g5"
      },
      "execution_count": null,
      "outputs": []
    },
    {
      "cell_type": "code",
      "source": [
        "transaction_data = \"Nama: Abu Assyifa , Kartu: 4123-1234-2356-1111, Exp: 12/25, CVV: 234\""
      ],
      "metadata": {
        "id": "9z0knPIeXQJM"
      },
      "execution_count": null,
      "outputs": []
    },
    {
      "cell_type": "code",
      "source": [
        "encrypted_data = rsa.encrypt(transaction_data.encode(), public_key)\n",
        "print( \"Data terenkripsi (dikirim ke server):\", encrypted_data[:64], \"...\")"
      ],
      "metadata": {
        "colab": {
          "base_uri": "https://localhost:8080/"
        },
        "id": "VqTNs-YGXyF6",
        "outputId": "1dbafc2a-f5d9-4219-c090-396588a9e0b1"
      },
      "execution_count": null,
      "outputs": [
        {
          "output_type": "stream",
          "name": "stdout",
          "text": [
            "Data terenkripsi (dikirim ke server): b'\\x1fI[\\xa7\\xa9\\xdf\\xe8\\x97$\\xfc\\xb5\\xcc\\xb2\\xf6s\\xac\\x98\\x88\\xacj\\xd03\\xf8\\x96S\\xfc\\x06\\xe9\\x10\\x0b\\x00>\\x10\\x91\\rXl\\xc1N\\xb2)?\\xf6h\\xcb\\x19^\\x9f%\\x04\\xcd\\xcdJ\\xe0\\xd3\\xa7\\xb0\\xbd\\xef\\x1d\\xabb\\xa2\\xa8' ...\n"
          ]
        }
      ]
    },
    {
      "cell_type": "code",
      "source": [
        "decrypted_data = rsa.decrypt(encrypted_data, private_key).decode()\n",
        "print(\"Data diekripsi di server:\", decrypted_data)"
      ],
      "metadata": {
        "colab": {
          "base_uri": "https://localhost:8080/"
        },
        "id": "mMSV4TI4YDIb",
        "outputId": "df91f6a5-6519-4afa-850b-bfc338c4f71c"
      },
      "execution_count": null,
      "outputs": [
        {
          "output_type": "stream",
          "name": "stdout",
          "text": [
            "Data diekripsi di server: Nama: Abu Assyifa , Kartu: 4123-1234-2356-1111, Exp: 12/25, CVV: 234\n"
          ]
        }
      ]
    }
  ]
}